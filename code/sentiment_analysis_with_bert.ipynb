{
 "cells": [
  {
   "cell_type": "markdown",
   "metadata": {},
   "source": [
    "# Lab4 - Sentiment Analysis with LLM\n",
    "\n",
    "第四組｜蕭名妍 劉貞莉 黃詩涵\n",
    "\n",
    "我們用三種不同的流程去執行以下程式碼進行比較：\n",
    "\n",
    "| | 流程一 | 流程二 | 流程三 |\n",
    "| --- | :---: | :---: | :---: |\n",
    "| Loading Data (data size)| 10,000筆 | 10,000筆 | 50,000筆 |\n",
    "| Load Model | CPU | MPS(GPU) | MPS(GPU) |\n",
    "| Fine-tuning (training set) | 8,000筆 | 8,000筆 | 40,000筆 |\n",
    "| Evaluation | CPU | CPU | CPU |\n",
    "| Inference (testing set) | 2,000筆 | 2,000筆 | 10,000筆 |\n",
    "\n",
    "詳細比較成果請見簡報檔。"
   ]
  },
  {
   "cell_type": "code",
   "execution_count": 55,
   "metadata": {},
   "outputs": [],
   "source": [
    "# pip install transformers"
   ]
  },
  {
   "cell_type": "code",
   "execution_count": 56,
   "metadata": {},
   "outputs": [],
   "source": [
    "import torch\n",
    "from transformers import BertTokenizer, BertForSequenceClassification\n",
    "from torch.utils.data import DataLoader, TensorDataset\n",
    "from sklearn.model_selection import train_test_split\n",
    "from sklearn.metrics import accuracy_score, precision_score, recall_score, f1_score\n",
    "import numpy as np\n",
    "import pandas as pd\n",
    "import random"
   ]
  },
  {
   "cell_type": "markdown",
   "metadata": {},
   "source": [
    "# Pytorch with MPS (GPU on Mac)"
   ]
  },
  {
   "cell_type": "code",
   "execution_count": 57,
   "metadata": {},
   "outputs": [
    {
     "name": "stdout",
     "output_type": "stream",
     "text": [
      "2.1.0\n"
     ]
    }
   ],
   "source": [
    "print(torch.__version__)"
   ]
  },
  {
   "cell_type": "code",
   "execution_count": 58,
   "metadata": {},
   "outputs": [
    {
     "name": "stdout",
     "output_type": "stream",
     "text": [
      "True\n",
      "True\n"
     ]
    }
   ],
   "source": [
    "# Is MPS even available? macOS 12.3+\n",
    "print(torch.backends.mps.is_available())\n",
    "\n",
    "# Was the current version of PyTorch built with MPS activated?\n",
    "print(torch.backends.mps.is_built())\n",
    "\n",
    "# If the outputs “true” & “true” then it’s time to celebrate because you now have access to Apple Metal GPU."
   ]
  },
  {
   "cell_type": "code",
   "execution_count": 59,
   "metadata": {},
   "outputs": [
    {
     "name": "stdout",
     "output_type": "stream",
     "text": [
      "tensor([1.], device='mps:0')\n"
     ]
    }
   ],
   "source": [
    "# source: https://developer.apple.com/metal/pytorch/\n",
    "if torch.backends.mps.is_available():\n",
    "    mps_device = torch.device(\"mps\")\n",
    "    x = torch.ones(1, device=mps_device)\n",
    "    print (x)\n",
    "else:\n",
    "    print (\"MPS device not found.\")"
   ]
  },
  {
   "cell_type": "markdown",
   "metadata": {},
   "source": [
    "# Loading Data"
   ]
  },
  {
   "cell_type": "code",
   "execution_count": 60,
   "metadata": {},
   "outputs": [
    {
     "data": {
      "text/html": [
       "<div>\n",
       "<style scoped>\n",
       "    .dataframe tbody tr th:only-of-type {\n",
       "        vertical-align: middle;\n",
       "    }\n",
       "\n",
       "    .dataframe tbody tr th {\n",
       "        vertical-align: top;\n",
       "    }\n",
       "\n",
       "    .dataframe thead th {\n",
       "        text-align: right;\n",
       "    }\n",
       "</style>\n",
       "<table border=\"1\" class=\"dataframe\">\n",
       "  <thead>\n",
       "    <tr style=\"text-align: right;\">\n",
       "      <th></th>\n",
       "      <th>review</th>\n",
       "      <th>sentiment</th>\n",
       "    </tr>\n",
       "  </thead>\n",
       "  <tbody>\n",
       "    <tr>\n",
       "      <th>0</th>\n",
       "      <td>One of the other reviewers has mentioned that ...</td>\n",
       "      <td>positive</td>\n",
       "    </tr>\n",
       "    <tr>\n",
       "      <th>1</th>\n",
       "      <td>A wonderful little production. &lt;br /&gt;&lt;br /&gt;The...</td>\n",
       "      <td>positive</td>\n",
       "    </tr>\n",
       "    <tr>\n",
       "      <th>2</th>\n",
       "      <td>I thought this was a wonderful way to spend ti...</td>\n",
       "      <td>positive</td>\n",
       "    </tr>\n",
       "    <tr>\n",
       "      <th>3</th>\n",
       "      <td>Basically there's a family where a little boy ...</td>\n",
       "      <td>negative</td>\n",
       "    </tr>\n",
       "    <tr>\n",
       "      <th>4</th>\n",
       "      <td>Petter Mattei's \"Love in the Time of Money\" is...</td>\n",
       "      <td>positive</td>\n",
       "    </tr>\n",
       "    <tr>\n",
       "      <th>...</th>\n",
       "      <td>...</td>\n",
       "      <td>...</td>\n",
       "    </tr>\n",
       "    <tr>\n",
       "      <th>49995</th>\n",
       "      <td>I thought this movie did a down right good job...</td>\n",
       "      <td>positive</td>\n",
       "    </tr>\n",
       "    <tr>\n",
       "      <th>49996</th>\n",
       "      <td>Bad plot, bad dialogue, bad acting, idiotic di...</td>\n",
       "      <td>negative</td>\n",
       "    </tr>\n",
       "    <tr>\n",
       "      <th>49997</th>\n",
       "      <td>I am a Catholic taught in parochial elementary...</td>\n",
       "      <td>negative</td>\n",
       "    </tr>\n",
       "    <tr>\n",
       "      <th>49998</th>\n",
       "      <td>I'm going to have to disagree with the previou...</td>\n",
       "      <td>negative</td>\n",
       "    </tr>\n",
       "    <tr>\n",
       "      <th>49999</th>\n",
       "      <td>No one expects the Star Trek movies to be high...</td>\n",
       "      <td>negative</td>\n",
       "    </tr>\n",
       "  </tbody>\n",
       "</table>\n",
       "<p>50000 rows × 2 columns</p>\n",
       "</div>"
      ],
      "text/plain": [
       "                                                  review sentiment\n",
       "0      One of the other reviewers has mentioned that ...  positive\n",
       "1      A wonderful little production. <br /><br />The...  positive\n",
       "2      I thought this was a wonderful way to spend ti...  positive\n",
       "3      Basically there's a family where a little boy ...  negative\n",
       "4      Petter Mattei's \"Love in the Time of Money\" is...  positive\n",
       "...                                                  ...       ...\n",
       "49995  I thought this movie did a down right good job...  positive\n",
       "49996  Bad plot, bad dialogue, bad acting, idiotic di...  negative\n",
       "49997  I am a Catholic taught in parochial elementary...  negative\n",
       "49998  I'm going to have to disagree with the previou...  negative\n",
       "49999  No one expects the Star Trek movies to be high...  negative\n",
       "\n",
       "[50000 rows x 2 columns]"
      ]
     },
     "execution_count": 60,
     "metadata": {},
     "output_type": "execute_result"
    }
   ],
   "source": [
    "df = pd.read_csv(\"IMDB_Dataset.csv\")\n",
    "df"
   ]
  },
  {
   "cell_type": "code",
   "execution_count": 61,
   "metadata": {},
   "outputs": [
    {
     "data": {
      "text/plain": [
       "sentiment\n",
       "positive    25000\n",
       "negative    25000\n",
       "Name: count, dtype: int64"
      ]
     },
     "execution_count": 61,
     "metadata": {},
     "output_type": "execute_result"
    }
   ],
   "source": [
    "df[\"sentiment\"].value_counts() # 可以看到，sentiment欄位只有兩種-positive or negative\n",
    "# 兩者是平衡的"
   ]
  },
  {
   "cell_type": "code",
   "execution_count": 62,
   "metadata": {},
   "outputs": [],
   "source": [
    "# shrink the data (because free colab cannot use that much resources)\n",
    "# df = df.sample(frac=0.2, random_state=42) # 50k -> 10k\n",
    "reviews = df['review'].to_numpy()\n",
    "labels = df['sentiment'].map({'positive':1, 'negative':0}).to_numpy() # convert category data to integer"
   ]
  },
  {
   "cell_type": "code",
   "execution_count": 63,
   "metadata": {},
   "outputs": [],
   "source": [
    "# split the data\n",
    "X_train, X_test, y_train, y_test = train_test_split(reviews,labels, test_size=0.2, random_state=42)"
   ]
  },
  {
   "cell_type": "markdown",
   "metadata": {},
   "source": [
    "# Load Model"
   ]
  },
  {
   "cell_type": "code",
   "execution_count": 64,
   "metadata": {},
   "outputs": [
    {
     "name": "stderr",
     "output_type": "stream",
     "text": [
      "Some weights of BertForSequenceClassification were not initialized from the model checkpoint at bert-base-uncased and are newly initialized: ['classifier.bias', 'classifier.weight']\n",
      "You should probably TRAIN this model on a down-stream task to be able to use it for predictions and inference.\n"
     ]
    }
   ],
   "source": [
    "# load pre-trained BERT model and tokenizer\n",
    "\n",
    "# 分詞器(tokenizer)用於將文本分割成單詞或子詞，並將其轉化為模型可以理解的輸入格式\n",
    "tokenizer = BertTokenizer.from_pretrained('bert-base-uncased')\n",
    "# bert-base-uncased 是Hugging Face Model Hub上提供的一個已經訓練好的BERT模型的名稱\n",
    "# 這個模型是基於小寫字母的英文文本訓練的（\"uncased\"表示不區分大小寫）\n",
    "\n",
    "# 創建一個BERT模型，用於序列分類任務，這是一個適用於文本分類任務的BERT模型變體，這個模型也已在大規模文本數據上進行了訓練\n",
    "model = BertForSequenceClassification.from_pretrained('bert-base-uncased')\n",
    "\n",
    "# 你可以將文本數據傳遞給tokenizer進行編碼，然後將編碼後的數據傳遞給model以獲得模型的預測輸出\n",
    "# cpu: 1.5s\n",
    "# mps(gpu): 1.8s\n",
    "# mps(gpu): 2.1s"
   ]
  },
  {
   "cell_type": "code",
   "execution_count": 65,
   "metadata": {},
   "outputs": [],
   "source": [
    "# BERT input conversion\n",
    "# 將文本數據轉換為適用於BERT模型的輸入格式，以便進行訓練和推理\n",
    "def tokenize_reviews(reviews, labels):\n",
    "    input_ids = [] # convert tokens to integers (each id represent a unique token)\n",
    "    attention_masks = [] # purpose: handle sequence of varying lengths\n",
    "\n",
    "    for review in reviews:\n",
    "        encoded_dict = tokenizer.encode_plus( # 使用`tokenizer.encode_plus`函數將文本轉換為BERT可接受的編碼格式\n",
    "            review, # 當前要處理的文本\n",
    "            add_special_tokens=True, # 告訴分詞器添加BERT模型所需的特殊tokens，如[CLS]和[SEP]\n",
    "            max_length=128, # 指定最大編碼後的文本長度\n",
    "            padding = 'max_length',\n",
    "            truncation = True, \n",
    "            return_attention_mask=True, # 生成一個關注（attention）掩碼，以標識輸入中的實際標記\n",
    "            return_tensors='pt' # 返回PyTorch張量作為結果\n",
    "        )\n",
    "        input_ids.append(encoded_dict['input_ids']) # 存了所有文本評論的編碼後的表示\n",
    "        attention_masks.append(encoded_dict['attention_mask']) # 存了關注掩碼\n",
    "\n",
    "    # 透過使用`torch.cat`函數，將`input_ids`和`attention_masks`從列表形式轉換為一個大張量，其中 `dim=0` 表示在第一個維度上進行拼接，通常是用於批量處理的維度\n",
    "    input_ids = torch.cat(input_ids, dim=0)\n",
    "    attention_masks = torch.cat(attention_masks, dim=0)\n",
    "    labels = torch.tensor(labels) # 與每個評論相關聯的標籤，它們被存儲為PyTorch張量。\n",
    "\n",
    "    return input_ids, attention_masks, labels\n",
    "    # 函數返回的值可以直接用於BERT模型進行文本分類或其他NLP任務的輸入"
   ]
  },
  {
   "cell_type": "markdown",
   "metadata": {},
   "source": [
    "# Fine-tuning"
   ]
  },
  {
   "cell_type": "code",
   "execution_count": 66,
   "metadata": {},
   "outputs": [],
   "source": [
    "# BERT fine-tuning\n",
    "# convert data to PyTorch tensors\n",
    "input_ids, attention_masks, labels = tokenize_reviews(X_train, y_train)\n",
    "# cpu: 10.8s\n",
    "# mps(gpu): 9.9s\n",
    "# mps(gpu): 53.1s"
   ]
  },
  {
   "cell_type": "code",
   "execution_count": 67,
   "metadata": {},
   "outputs": [],
   "source": [
    "# create DataLoader for training data\n",
    "# 創建一個用於訓練數據的DataLoader對象，通常在深度學習中用於對數據進行批處理（batch processing）\n",
    "dataset = TensorDataset(input_ids, attention_masks, labels)\n",
    "# `TensorDataset`是PyTorch庫中的一個類，用於將多個張量（Tensors）組合成一個數據集\n",
    "# `input_ids` 包含文本評論的編碼，`attention_masks` 是關注掩碼，`labels` 是與每個評論相關聯的標籤\n",
    "# 創建了一個`TensorDataset`對象，將這三個張量打包在一起，使它們在數據集中按相應的順序配對\n",
    "\n",
    "train_dataloader = DataLoader(dataset, batch_size=32, shuffle=True)\n",
    "# `DataLoader`是PyTorch庫中的一個類，用於對數據集進行批處理，並提供了數據加載的功能。它允許你按指定的批量大小（`batch_size`）叠代數據，並可以選擇是否對數據進行隨機打亂（`shuffle`）。\n",
    "# 我們創建了一個`DataLoader`，每次從數據集中加載32個樣本作為一個批次\n",
    "# 在每個epoch開始之前，將數據打亂，以確保模型在每個時代中看到的數據順序不同，通常有助於提高模型的訓練效果\n",
    "\n",
    "# 一旦創建了`train_dataloader`，就可以在訓練循環中使用它來加載批量的數據，用於模型的訓練\n",
    "# 通常在每個epoch中，會叠代`train_dataloader`，並將每個批次的數據提供給模型進行訓練"
   ]
  },
  {
   "cell_type": "code",
   "execution_count": 68,
   "metadata": {},
   "outputs": [],
   "source": [
    "# BERT fine-tuning\n",
    "# 建立一個優化器，用於更新模型的權重，以最小化損失函數\n",
    "# 使用了AdamW優化器，它是Adam優化器的一個變體，特別適用於自然語言處理任務\n",
    "optimizer = torch.optim.AdamW(model.parameters(), lr=2e-5)\n",
    "# model.parameters()返回了模型的參數（權重和偏差），它告訴優化器要更新哪些參數。\n",
    "# lr=2e-5 指定了學習率（learning rate），即每次參數更新的步長。學習率是一個超參數，需要根據具體任務和數據進行調整\n",
    "\n",
    "loss_fn = torch.nn.CrossEntropyLoss()\n",
    "epochs = 2\n",
    "\n",
    "# epochs 是一個超參數，用於指定訓練神經網絡的時期（epochs）的數量。在深度學習中，一個時期表示將訓練數據集中的所有樣本都經過模型的一次前向傳播和反向傳播，並用於更新模型的權重。在每個時期中，模型會反覆訓練，以逐漸學習更好的表示和適應訓練數據。epochs 的值通常是根據實驗和模型性能來選擇的，通常需要進行多次試驗以找到最佳值。它可以根據以下因素來確定：\n",
    "# 數據集的大小：如果你的訓練數據集很大，通常需要更多的時期來確保模型充分學習數據的特征。較小的數據集可能需要較少的時期。\n",
    "# 訓練時間：更多的時期意味著更長的訓練時間。你需要考慮可用的計算資源和時間來確定時期的數量。\n",
    "# 模型性能：通常，你可以通過訓練準確度或損失函數的變化來監控模型的性能。你可以選擇在性能達到穩定水平之前進行更多的時期。\n",
    "# 過擬合：如果模型在訓練集上表現得越來越好，但在驗證集上表現變差，這可能是過擬合的跡象。過擬合發生時，增加時期可能會使情況變得更糟。你可能需要使用早停（early stopping）來防止過擬合。\n",
    "# 一般來說，你可以從一個較小的值開始，例如2或3個時期，然後觀察模型的性能。如果模型在這個時間內沒有收斂或表現得不夠好，你可以考慮增加時期數。但請謹慎增加時期，以避免過度訓練。最終的選擇應該基於實驗和驗證結果。"
   ]
  },
  {
   "cell_type": "code",
   "execution_count": 69,
   "metadata": {},
   "outputs": [
    {
     "data": {
      "text/plain": [
       "BertForSequenceClassification(\n",
       "  (bert): BertModel(\n",
       "    (embeddings): BertEmbeddings(\n",
       "      (word_embeddings): Embedding(30522, 768, padding_idx=0)\n",
       "      (position_embeddings): Embedding(512, 768)\n",
       "      (token_type_embeddings): Embedding(2, 768)\n",
       "      (LayerNorm): LayerNorm((768,), eps=1e-12, elementwise_affine=True)\n",
       "      (dropout): Dropout(p=0.1, inplace=False)\n",
       "    )\n",
       "    (encoder): BertEncoder(\n",
       "      (layer): ModuleList(\n",
       "        (0-11): 12 x BertLayer(\n",
       "          (attention): BertAttention(\n",
       "            (self): BertSelfAttention(\n",
       "              (query): Linear(in_features=768, out_features=768, bias=True)\n",
       "              (key): Linear(in_features=768, out_features=768, bias=True)\n",
       "              (value): Linear(in_features=768, out_features=768, bias=True)\n",
       "              (dropout): Dropout(p=0.1, inplace=False)\n",
       "            )\n",
       "            (output): BertSelfOutput(\n",
       "              (dense): Linear(in_features=768, out_features=768, bias=True)\n",
       "              (LayerNorm): LayerNorm((768,), eps=1e-12, elementwise_affine=True)\n",
       "              (dropout): Dropout(p=0.1, inplace=False)\n",
       "            )\n",
       "          )\n",
       "          (intermediate): BertIntermediate(\n",
       "            (dense): Linear(in_features=768, out_features=3072, bias=True)\n",
       "            (intermediate_act_fn): GELUActivation()\n",
       "          )\n",
       "          (output): BertOutput(\n",
       "            (dense): Linear(in_features=3072, out_features=768, bias=True)\n",
       "            (LayerNorm): LayerNorm((768,), eps=1e-12, elementwise_affine=True)\n",
       "            (dropout): Dropout(p=0.1, inplace=False)\n",
       "          )\n",
       "        )\n",
       "      )\n",
       "    )\n",
       "    (pooler): BertPooler(\n",
       "      (dense): Linear(in_features=768, out_features=768, bias=True)\n",
       "      (activation): Tanh()\n",
       "    )\n",
       "  )\n",
       "  (dropout): Dropout(p=0.1, inplace=False)\n",
       "  (classifier): Linear(in_features=768, out_features=2, bias=True)\n",
       ")"
      ]
     },
     "execution_count": 69,
     "metadata": {},
     "output_type": "execute_result"
    }
   ],
   "source": [
    "model.to(mps_device) # 將 model 移動到所選的計算設備上"
   ]
  },
  {
   "cell_type": "code",
   "execution_count": 72,
   "metadata": {},
   "outputs": [],
   "source": [
    "# 用mps(gpu)訓練模型\n",
    "for epoch in range(epochs): # 模型訓練將在多個時期中進行\n",
    "  model.train() # 將模型切換到訓練模式。在訓練模式下，模型會計算梯度，並在反向傳播時更新模型參數\n",
    "  for batch in train_dataloader: # 這是一個內部循環，用於遍歷訓練數據集中的所有批次（batches）。train_dataloader 是之前創建的數據加載器，每次叠代會提供一個批次的數據。\n",
    "    input_ids, attention_mask, labels = batch # 從當前批次中解壓出輸入張量（input_ids和attention_mask）和標籤（labels）\n",
    "    input_ids, attention_mask, labels = input_ids.to(mps_device), attention_mask.to(mps_device), labels.to(mps_device) # 將批次的數據移動到之前選擇的計算設備（GPU或CPU）\n",
    "    optimizer.zero_grad() # 將模型參數的梯度設置為零。在每個批次之前，需要清零梯度，以便計算新的梯度。這是因為PyTorch會累積梯度，如果不清零，會導致梯度計算錯誤。\n",
    "\n",
    "    outputs = model(input_ids, attention_mask=attention_mask, labels=labels) # 將輸入數據傳遞給模型以進行前向傳播，同時計算損失（loss）。labels 參數表示預期的標簽，因此模型可以計算預測和損失。\n",
    "    loss = outputs.loss # 從模型輸出中計算的損失值\n",
    "    loss.backward() # compute the gradient # 執行反向傳播，計算模型參數的梯度。梯度用於優化器的參數更新\n",
    "    optimizer.step() # update parameters(optimization) # 使用優化器來更新模型參數，以最小化損失函數。它執行參數的梯度下降步驟，以改善模型的性能\n",
    "# cpu: 25m 59s\n",
    "# mps(gpu): 6m 30.5s\n",
    "# mps(gpu): 37m 43.9s"
   ]
  },
  {
   "cell_type": "markdown",
   "metadata": {},
   "source": [
    "# Evaluation"
   ]
  },
  {
   "cell_type": "code",
   "execution_count": 73,
   "metadata": {},
   "outputs": [],
   "source": [
    "# torch.cuda.empty_cache()\n",
    "torch.mps.empty_cache()"
   ]
  },
  {
   "cell_type": "code",
   "execution_count": null,
   "metadata": {},
   "outputs": [],
   "source": [
    "# 改用cpu進行evaluation（因為gpu記憶體不夠了）\n",
    "device = torch.device('cpu')\n",
    "model.to(device) # 移動到cpu\n",
    "model.eval() # set to evaluation mode\n",
    "test_input_ids, test_attention_masks, test_labels = tokenize_reviews(X_test, y_test) # 將文本數據轉換為適用於BERT模型的輸入格式\n",
    "test_input_ids, test_attention_masks, test_labels = test_input_ids.to(device), test_attention_masks.to(device),test_labels.to(device) # 資料也要移動到cpu\n",
    "\n",
    "with torch.no_grad(): # 這是一個上下文管理器，它告訴PyTorch在接下來的代碼塊中不計算梯度。這對於推理階段非常重要，因為在推理過程中，我們通常不需要計算梯度。通過使用`torch.no_grad()`，可以提高推理的速度和減少內存占用。\n",
    "  logits = model(test_input_ids, attention_mask=test_attention_masks) # 分類器，使用訓練好的BERT模型進行推理\n",
    "  # 模型返回的 `logits` 包含了每個類別的得分或原始預測值。這些得分可以用於計算類別概率，或者通過`argmax`操作找到模型的最終預測標簽\n",
    "predicted_labels = np.argmax(logits.logits.cpu().numpy(), axis=1) # 從`logits`中找到每個樣本的最高得分的類別，即模型的預測標籤\n",
    "# `logits` 是一個PyTorch張量，因此我們使用 `.cpu().numpy()` 將其轉換為NumPy數組，以便更容易進行操作\n",
    "# cpu: 59s\n",
    "# cpu: 1m 2.4s\n",
    "# cpu: 234m 34.3s for 50k data"
   ]
  },
  {
   "cell_type": "code",
   "execution_count": null,
   "metadata": {},
   "outputs": [
    {
     "data": {
      "text/html": [
       "<div>\n",
       "<style scoped>\n",
       "    .dataframe tbody tr th:only-of-type {\n",
       "        vertical-align: middle;\n",
       "    }\n",
       "\n",
       "    .dataframe tbody tr th {\n",
       "        vertical-align: top;\n",
       "    }\n",
       "\n",
       "    .dataframe thead th {\n",
       "        text-align: right;\n",
       "    }\n",
       "</style>\n",
       "<table border=\"1\" class=\"dataframe\">\n",
       "  <thead>\n",
       "    <tr style=\"text-align: right;\">\n",
       "      <th></th>\n",
       "      <th>value</th>\n",
       "    </tr>\n",
       "  </thead>\n",
       "  <tbody>\n",
       "    <tr>\n",
       "      <th>accuracy</th>\n",
       "      <td>0.8750</td>\n",
       "    </tr>\n",
       "    <tr>\n",
       "      <th>precision</th>\n",
       "      <td>0.8753</td>\n",
       "    </tr>\n",
       "    <tr>\n",
       "      <th>recall</th>\n",
       "      <td>0.8750</td>\n",
       "    </tr>\n",
       "    <tr>\n",
       "      <th>f1_score</th>\n",
       "      <td>0.8750</td>\n",
       "    </tr>\n",
       "  </tbody>\n",
       "</table>\n",
       "</div>"
      ],
      "text/plain": [
       "            value\n",
       "accuracy   0.8750\n",
       "precision  0.8753\n",
       "recall     0.8750\n",
       "f1_score   0.8750"
      ]
     },
     "execution_count": 46,
     "metadata": {},
     "output_type": "execute_result"
    }
   ],
   "source": [
    "# 建立成dataframe\n",
    "evaluation = pd.DataFrame({'value':[accuracy_score(y_test, predicted_labels),\n",
    "                                    precision_score(y_test, predicted_labels, average='macro',),\n",
    "                                    recall_score(y_test, predicted_labels, average='macro'),\n",
    "                                    f1_score(y_test, predicted_labels, average='macro')]},\n",
    "                           index=[\"accuracy\", \"precision\", \"recall\", \"f1_score\"])\n",
    "\n",
    "evaluation.round(4)"
   ]
  },
  {
   "cell_type": "code",
   "execution_count": null,
   "metadata": {},
   "outputs": [
    {
     "data": {
      "text/html": [
       "<div>\n",
       "<style scoped>\n",
       "    .dataframe tbody tr th:only-of-type {\n",
       "        vertical-align: middle;\n",
       "    }\n",
       "\n",
       "    .dataframe tbody tr th {\n",
       "        vertical-align: top;\n",
       "    }\n",
       "\n",
       "    .dataframe thead th {\n",
       "        text-align: right;\n",
       "    }\n",
       "</style>\n",
       "<table border=\"1\" class=\"dataframe\">\n",
       "  <thead>\n",
       "    <tr style=\"text-align: right;\">\n",
       "      <th></th>\n",
       "      <th>value</th>\n",
       "    </tr>\n",
       "  </thead>\n",
       "  <tbody>\n",
       "    <tr>\n",
       "      <th>accuracy</th>\n",
       "      <td>0.875000</td>\n",
       "    </tr>\n",
       "    <tr>\n",
       "      <th>precision</th>\n",
       "      <td>0.875345</td>\n",
       "    </tr>\n",
       "    <tr>\n",
       "      <th>recall</th>\n",
       "      <td>0.874985</td>\n",
       "    </tr>\n",
       "    <tr>\n",
       "      <th>f1_score</th>\n",
       "      <td>0.874968</td>\n",
       "    </tr>\n",
       "  </tbody>\n",
       "</table>\n",
       "</div>"
      ],
      "text/plain": [
       "              value\n",
       "accuracy   0.875000\n",
       "precision  0.875345\n",
       "recall     0.874985\n",
       "f1_score   0.874968"
      ]
     },
     "execution_count": 47,
     "metadata": {},
     "output_type": "execute_result"
    }
   ],
   "source": [
    "evaluation"
   ]
  },
  {
   "cell_type": "code",
   "execution_count": null,
   "metadata": {},
   "outputs": [
    {
     "data": {
      "text/plain": [
       "SequenceClassifierOutput(loss=None, logits=tensor([[ 2.0041, -1.1740],\n",
       "        [ 1.3857, -0.6221],\n",
       "        [ 2.4623, -1.8269],\n",
       "        ...,\n",
       "        [ 2.6914, -2.0562],\n",
       "        [ 1.0100, -0.3644],\n",
       "        [ 1.0894, -0.4423]]), hidden_states=None, attentions=None)"
      ]
     },
     "execution_count": 48,
     "metadata": {},
     "output_type": "execute_result"
    }
   ],
   "source": [
    "logits"
   ]
  },
  {
   "cell_type": "code",
   "execution_count": null,
   "metadata": {},
   "outputs": [
    {
     "data": {
      "text/plain": [
       "array([0, 0, 0, 0, 0, 1, 0, 0, 1, 1])"
      ]
     },
     "execution_count": 49,
     "metadata": {},
     "output_type": "execute_result"
    }
   ],
   "source": [
    "y_test[:10]"
   ]
  },
  {
   "cell_type": "code",
   "execution_count": null,
   "metadata": {},
   "outputs": [
    {
     "data": {
      "text/plain": [
       "array([0, 0, 0, 1, 1, 1, 0, 0, 0, 1])"
      ]
     },
     "execution_count": 50,
     "metadata": {},
     "output_type": "execute_result"
    }
   ],
   "source": [
    "predicted_labels[:10]"
   ]
  },
  {
   "cell_type": "code",
   "execution_count": null,
   "metadata": {},
   "outputs": [
    {
     "data": {
      "text/plain": [
       "array(['the tortuous emotional impact is degrading, whether adult or adolescent the personal values shown in this movie belong in a bad psychodrama if anywhere at all. This movie has a plot, but it is all evil from start to end. This is no way for people to act and degrades both sexes all the way through the movie. teen killing - bad preteen sex - bad emotional battering - bad animal cruelty - bad psychological torture - bad parental neglect - bad the only merit if any is the excellent color shots of contrasting red, blond and green leaves a bad feeling for anyone that respects life and peace, what a bad mistake to make, or to watch... it is UGLY',\n",
       "       'Anyone who knows anything about evolution wouldn\\'t even need to see the film to say \"fake\". \"it\\'s never been disproved\" also is a weak argument. Saying the universe was created by a giant hippo cannot be disproved. Although, to be fair, it does seem like the only people who do believe are the same people who open email attachments from people they don\\'t know or give their bank details to a dude in Zambia. No bones of any primates are have been found in the United States or Canada. There is also a good reason why legitimate scientists don\\'t bother studying this. The same argument goes for the Loch Ness monster, ghosts and god.',\n",
       "       'I\\'m glad I rented this movie for one reason: its shortcomings made me want to read Allende\\'s book and get the full story. <br /><br />Pros: the movie is beautiful, the period is depicted well and consistently (to the best of my knowledge), and Meryl and Glenn do good jobs.<br /><br />Cons: This is the worst acting job I\\'ve ever seen from Jeremy Irons--I kept wondering if something was wrong with his mouth. (And I hate the terribly English way he says \"Transito.\") Winona Ryder does nothing believable except look young and idealistic. Most of the other performances are OK, but so few things hang together in the character arcs and the relationship development that I was frustrated and angry well before the end. <br /><br />I\\'m very curious now whether this movie is typical of Bille August\\'s work. I may have to drop another couple of bucks to rent Smilla\\'s Sense of Snow.',\n",
       "       'Yes, the votes are in. This film may very well be the Plan 9 From Outer Space for our generation. But whereas Ed Wood\\'s film, for all its flaws, retains a certain charm despite it all, this film defines the word \"charmless\" to the nth degree. In fact, I\\'d suggest to the editors of the Oxford English Dictionary to cite this movie as a key example defining the that word in the next update to the dictionary.<br /><br />Carrot Top is a performer of such abysmal ability that normally rational people that I know once they hear his name become homicidal maniacs dedicated to wanting to kill Mr. Top as soon as possible. Indeed, if one goes to Amazon.com and look at customer reviews for Carrot Top\\'s movie and other performance DVD, one will find several that could be construed as death threats to Mr. Top.<br /><br />One other curious fact about this film, I recall that Mike Nelson, the head writer for MST 3000, in his book Mike\\'s Mega Cheese about movies, good and bad, said he saw this film and shortly afterwords couldn\\'t recall a thing about it, including the title. Obviously Mike was suffering a classic reaction to trauma. Viewing this atrocity was so soul numbing, Mike Nelson had to block it from his mind. (Evidently, in a later chapter in his book, Mike Nelson had recovered his memeory of this film. From the review he offers, Mike Nelson was definitely not grateful for the recovered memory.)<br /><br />The only comment I offer about the film, and it is not a spoiler, it\\'s simply God\\'s honest truth, it\\'s not funny. None of it is, not even a nanosecond of it is funny.',\n",
       "       'This mini-series is actually more entertaining than some others with much bigger budgets and grander aspirations. SOTD falls somewhere between \"Kung-Fu\" and \"H R Pufnstuff\" on the entertainment spectrum. If it weren\\'t so long (nearly 3 hours) I think that kids would like it quite a bit. It\\'s got adventure, action, \"cliffhanger scenes\", and not too much romance or other \"icky\" stuff. When you\\'re young, you\\'re not too critical of flexing rubber swords, campy acting, and scenes that are repeated. (At least two scenes are repeated identically in the movie, just as was done in old-time serials in order to bring the audience up to speed.) Finally, kids are usually more accepting of American English dialogue coming out of the mouths of Asian actors. (Not to mention the fact that several of the leading roles are played by non-Asian actors.) <br /><br />I was going to give this movie three stars, but I felt like the director, producers, and cast deserved some extra credit for at least carrying through on the project. This movie is not art, but, like painting your house, it actually took some time, effort, and discipline to get it made.<br /><br />Overall, not a recommended use for your time, but it might keep the kids entertained while traveling in the mini-van.<br /><br />Oh, yeah...hey, IMDb! \"Dialogue\" is the preferred and traditional spelling. Your spell-checking seems to think that \"dialog\" is the proper spelling. While \"dialog\" is acceptable, both Webster\\'s and the OED consider it an alternative form.',\n",
       "       \"For those with access to the BBC or the CBC, this has proved to be spectacular. Like Battlestar Gallactica, this is a show rebuilt from the ground up. But in the case of Dr Who, they saved the best parts. I can't believe I am saying this but.. this is by far the best Dr Who. This has none of the cheap production values and sometimes slow plodding of the old show. The acting is quite good and there is a real sense of continuity and history. The new Doctor is easily the equal of the great Tom Baker, and the writer (former QAF lead) seems to have made even the minor characters come alive.<br /><br />I know...I'm gushing..but this should be on everyone sci-fi geeks list. I just don't know why it hasn't made its way here.. Whatever you do...if you ever loved Dr Who or sci-fi..see this!!!\",\n",
       "       \"I saw this movie when i was much younger and i thought it was funny. I saw it again last week, and you can guess the result. Some funny parts in it, very few and too long. The beginning is the only thing that is funny if you ask me.<br /><br />If you want a total b-movie this is a good pick, but don't expect too much from aliens dwarf size\",\n",
       "       'A desperate attempt to make a \"film-noir\" sci-fi thriller, but the movie falls short. It has no believable plot, some of the key actors were a joke (NOT Lars Bom, he is cool!). I did like the \"access restriction by bandwith maximizing\" though. I finished it on principle, but went home with the feeling of having lost two hours of my life...',\n",
       "       'While caricatures and/or references to entertainment industry people or things or even brands of products is usually a staple in shorts like this one, they aren\\'t used in quantity here. Most of the individual gags are rather generic. As I\\'m going to give examples, there will be spoilers below: <br /><br />There are only three (well, technically four-there\\'s a quick one at the very end of the cartoon) caricatures that I spotted, which is kind of low for this type of short, though one is a featured character with a fair amount of activity. They are Jack Benny (as Jack Bunny), Leopold Stowkowski and the inimitable Ned Sparks (as a crab on a can-chances are very good that, if a crab was involved in a Warner Brothers short in the 1930s-1940s, the caricature used would be Ned Sparks). There are also references to Billy Rose\\'s Aquacade and a riff on a radio show character called \"Henry Aldrich\" (Coming, mother!), a play on Superman (Superguy here) and the villain is a take-off on \"King Kong\". That\\'s it for that kind of gag.<br /><br />The products themselves are mostly generic and the gags are more plays on basic items in unusual situations, such as turtles coming off of cans of soup to attack the villain as tanks, tomato soup cans doing \"The can-can\\', gingerbread men who turn into paratroopers, using tissues for parachutes and so on. The gags are very good and it\\'s an excellent example of a Bob Clampett cartoon. Clampett had hit his stride as a director by this point and while it isn\\'t anywhere near his best work, it\\'s nothing to sneeze at either. This short can be found on Looney Tunes Golden Collection, Vol. 3, which is an excellent set that I highly recommend. This short itself is also recommended.',\n",
       "       'I have to say that this miniseries was the best interpretation of the beloved novel \"Jane Eyre\". Both Dalton and Clarke are very believable as Rochester and Jane. I\\'ve seen other versions, but none compare to this one. The best one for me. I could never imagine anyone else playing these characters ever again. The last time I saw this one was in 1984 when I was only 13. At that time, I was a bookworm and I had just read Charlotte Bronte\\'s novel. I was completely enchanted by this miniseries and I remember not missing any of the episodes. I\\'d like to see it again because it\\'s so good. :-)'],\n",
       "      dtype=object)"
      ]
     },
     "execution_count": 51,
     "metadata": {},
     "output_type": "execute_result"
    }
   ],
   "source": [
    "X_test[:10]"
   ]
  },
  {
   "cell_type": "code",
   "execution_count": null,
   "metadata": {},
   "outputs": [],
   "source": [
    "# 輸出模型的參數數量\n",
    "def get_learnable_params(module):\n",
    "    return [p for p in module.parameters() if p.requires_grad]\n",
    "\n",
    "model_params =get_learnable_params(model)\n",
    "clf_params = get_learnable_params(model.classifier)\n",
    "\n",
    "print(f\"\"\"\n",
    "整個分類模型的參數量：{sum(p.numel() for p in model_params)}\n",
    "線性分類器的參數量：{sum(p.numel() for p in clf_params)}\n",
    "\"\"\")"
   ]
  },
  {
   "cell_type": "markdown",
   "metadata": {},
   "source": [
    "# Inference"
   ]
  },
  {
   "cell_type": "code",
   "execution_count": null,
   "metadata": {},
   "outputs": [
    {
     "data": {
      "text/html": [
       "<div>\n",
       "<style scoped>\n",
       "    .dataframe tbody tr th:only-of-type {\n",
       "        vertical-align: middle;\n",
       "    }\n",
       "\n",
       "    .dataframe tbody tr th {\n",
       "        vertical-align: top;\n",
       "    }\n",
       "\n",
       "    .dataframe thead th {\n",
       "        text-align: right;\n",
       "    }\n",
       "</style>\n",
       "<table border=\"1\" class=\"dataframe\">\n",
       "  <thead>\n",
       "    <tr style=\"text-align: right;\">\n",
       "      <th></th>\n",
       "      <th>review</th>\n",
       "      <th>sentiment</th>\n",
       "      <th>predicted_sentiment</th>\n",
       "    </tr>\n",
       "  </thead>\n",
       "  <tbody>\n",
       "    <tr>\n",
       "      <th>0</th>\n",
       "      <td>the tortuous emotional impact is degrading, wh...</td>\n",
       "      <td>negative</td>\n",
       "      <td>negative</td>\n",
       "    </tr>\n",
       "    <tr>\n",
       "      <th>1</th>\n",
       "      <td>Anyone who knows anything about evolution woul...</td>\n",
       "      <td>negative</td>\n",
       "      <td>negative</td>\n",
       "    </tr>\n",
       "    <tr>\n",
       "      <th>2</th>\n",
       "      <td>I'm glad I rented this movie for one reason: i...</td>\n",
       "      <td>negative</td>\n",
       "      <td>negative</td>\n",
       "    </tr>\n",
       "    <tr>\n",
       "      <th>3</th>\n",
       "      <td>Yes, the votes are in. This film may very well...</td>\n",
       "      <td>negative</td>\n",
       "      <td>positive</td>\n",
       "    </tr>\n",
       "    <tr>\n",
       "      <th>4</th>\n",
       "      <td>This mini-series is actually more entertaining...</td>\n",
       "      <td>negative</td>\n",
       "      <td>positive</td>\n",
       "    </tr>\n",
       "    <tr>\n",
       "      <th>...</th>\n",
       "      <td>...</td>\n",
       "      <td>...</td>\n",
       "      <td>...</td>\n",
       "    </tr>\n",
       "    <tr>\n",
       "      <th>1995</th>\n",
       "      <td>I can tell by the other comments that NOBODY c...</td>\n",
       "      <td>negative</td>\n",
       "      <td>negative</td>\n",
       "    </tr>\n",
       "    <tr>\n",
       "      <th>1996</th>\n",
       "      <td>The story turns around Antonio 'Scarface' Mont...</td>\n",
       "      <td>positive</td>\n",
       "      <td>positive</td>\n",
       "    </tr>\n",
       "    <tr>\n",
       "      <th>1997</th>\n",
       "      <td>I am so disappointed. After waiting for 3 year...</td>\n",
       "      <td>negative</td>\n",
       "      <td>negative</td>\n",
       "    </tr>\n",
       "    <tr>\n",
       "      <th>1998</th>\n",
       "      <td>I saw this movie in Blockbuster and thought it...</td>\n",
       "      <td>negative</td>\n",
       "      <td>negative</td>\n",
       "    </tr>\n",
       "    <tr>\n",
       "      <th>1999</th>\n",
       "      <td>I usually comment only on movies that I like, ...</td>\n",
       "      <td>negative</td>\n",
       "      <td>negative</td>\n",
       "    </tr>\n",
       "  </tbody>\n",
       "</table>\n",
       "<p>2000 rows × 3 columns</p>\n",
       "</div>"
      ],
      "text/plain": [
       "                                                 review sentiment  \\\n",
       "0     the tortuous emotional impact is degrading, wh...  negative   \n",
       "1     Anyone who knows anything about evolution woul...  negative   \n",
       "2     I'm glad I rented this movie for one reason: i...  negative   \n",
       "3     Yes, the votes are in. This film may very well...  negative   \n",
       "4     This mini-series is actually more entertaining...  negative   \n",
       "...                                                 ...       ...   \n",
       "1995  I can tell by the other comments that NOBODY c...  negative   \n",
       "1996  The story turns around Antonio 'Scarface' Mont...  positive   \n",
       "1997  I am so disappointed. After waiting for 3 year...  negative   \n",
       "1998  I saw this movie in Blockbuster and thought it...  negative   \n",
       "1999  I usually comment only on movies that I like, ...  negative   \n",
       "\n",
       "     predicted_sentiment  \n",
       "0               negative  \n",
       "1               negative  \n",
       "2               negative  \n",
       "3               positive  \n",
       "4               positive  \n",
       "...                  ...  \n",
       "1995            negative  \n",
       "1996            positive  \n",
       "1997            negative  \n",
       "1998            negative  \n",
       "1999            negative  \n",
       "\n",
       "[2000 rows x 3 columns]"
      ]
     },
     "execution_count": 53,
     "metadata": {},
     "output_type": "execute_result"
    }
   ],
   "source": [
    "# 把預測結果變回顯示 positive or negative，並合併test output成一個dataframe\n",
    "mapping = {1: 'positive', 0: 'negative'}\n",
    "y_test_map = np.array([mapping[val] for val in y_test])\n",
    "predicted_labels_map = np.array([mapping[val] for val in predicted_labels])\n",
    "result_df = pd.DataFrame({'review': X_test,'sentiment': y_test_map, 'predicted_sentiment': predicted_labels_map})\n",
    "result_df"
   ]
  },
  {
   "cell_type": "code",
   "execution_count": null,
   "metadata": {},
   "outputs": [],
   "source": [
    "result_df.to_csv(\"result_df.csv\", index=False, encoding=\"utf-8\")"
   ]
  },
  {
   "cell_type": "code",
   "execution_count": 26,
   "metadata": {},
   "outputs": [
    {
     "name": "stdout",
     "output_type": "stream",
     "text": [
      "An hilariously accurate caricature of trying to sell a script. Documentary hits all the beats, plot points, character arcs, seductions, moments of elation and disappointments and the allure but insane prospect of selling a script or getting an agent in Hollywood;and all the fleeting, fantasy-realizing but ultimately empty rites of passage attendant to being socialized into \"the system.\" Hotz and Rice capture the moment of thinking you're finally a player, only to find that what goes up comes down fast and in a blind-siding fashion;that for inexplicable reasons, Hollywood has moved on and left you checking your heart, your dreams, and your pockets. Pitch is a must-see for students in film school to taste the mind and ego-bashing gantlet that is, for most, the road that must be traveled to sell oneself and one's projects in Hollywood. If your teacher or guru has never been there, they can't tell you what you need to prepare for this gantlet. To enter the\"biz,\" talent is necessary but far from sufficient\n",
      "========================\n",
      "This movie is just great. It's entertaining from beginning to the end, you're always gonna be at the edge of your seat throughout the entire movie. In my opinion this movie is highly underrated by the critics.<br /><br />Sly suits perfectly into the role of the well trained mountain-rescue guy Gabe Walker. Together with him Michael Rooker makes a great appearance as Hal Tucker. And then, John Lithgow, one of the best performances I've seen of him as a villain.<br /><br />And the fact that 75% of the movie takes place at a mountain with a whole lot of bad guys on it makes way for a lot of action! <br /><br />Brilliant movie!\n",
      "========================\n",
      "I did not read anything about the film before I watched it, by chance, last Saturday evening. And then, as I was watching it, I felt the misery of Lena and Boesman into my bones. I was so captivated by the acting and the tone and the filming that I listened only partially to the dialogues. My husband fell asleep soon after we went to bed and I was sleepless, under the impact of the film. I wanted to wake him up just to say:\"if I would ever vote for an Oscar nomination, it would be for these two actors.\" I decided to wait until the next day. Then I read more about the film on IMDb, and was sad to learn that Mr. Berry died before the release of the film and that he had probably never seen the last version of his brilliant masterpiece. I still want to tell him that to me his film was a true independent film, in its concept and spirit. The actors are to be praised not only for their brilliant performance but for accepting a part with no shine, no showing off, well to the contrary, displaying the true image of human depression. Sad but poignant.\n",
      "========================\n",
      "A comedy of epically funny proportions from the guys that brought you South Park, and most of the guys from Orgazmo. This vulgur, obscence movie has utterly disgusting, eggotistical, and satirical content. It portrays incredibly cruel treatment of humans and animals. I LOVE IT!!!!! This is some funny stuff. Really funny. Two loser friends create a game in thier driveway, which explodes into a national sensation. Corruption and greed and blackmail turn the sport sour, and its up ta Coop ta fix it. And along the way, you will laugh. Alot. That's all there is. Enjoy!!!!\n",
      "========================\n",
      "I am going to go out on a limb, and actually defend \"Shades of Grey\" as a good clip-show episode, which delved into the life and death struggle of Commander William Thomas Riker who was battling a terminally fatal disease.<br /><br />The scenes from the flashback sequences were implemented quite well with the mood Riker was in such as when he was reliving his romantic episodes such as \"11001001,\" \"Angel One,\" and \"Up the Long Ladder.\" Tragic moments were highlighted such as Tasha's death in \"Skin of Evil,\" as well as elements of pulse-pounding danger in \"Heart of Glory,\" \"Conspiracy,\" and the aforementioned \"Skin of Evil.\" Riker also exhibited courage under fire by telling some humorous jokes such as \"An ancestor of mine was bitten by a rattlesnake once...after 3 days of intense pain, the snake died.\" This episode highlighted the psychological ordeal of Will Riker under extreme duress. And, YES, I am biased in my opinion in proclaiming \"Shades of Grey\" as a solid episode, because at the time of its original airing, my face was covered in sweat, wondering whether or not Riker would pullout of it alive and live to see other great, galactic, outerspace adventures beyond the final frontier...<br /><br />Of course, in subsequent years, I seem to have formed a singular opinion of this particular episode...but, if an award should go for \"the best clip-show episode in the history of television,\" then I believe that this episode should be highly regarded in that respect.\n",
      "========================\n"
     ]
    },
    {
     "data": {
      "text/html": [
       "<div>\n",
       "<style scoped>\n",
       "    .dataframe tbody tr th:only-of-type {\n",
       "        vertical-align: middle;\n",
       "    }\n",
       "\n",
       "    .dataframe tbody tr th {\n",
       "        vertical-align: top;\n",
       "    }\n",
       "\n",
       "    .dataframe thead th {\n",
       "        text-align: right;\n",
       "    }\n",
       "</style>\n",
       "<table border=\"1\" class=\"dataframe\">\n",
       "  <thead>\n",
       "    <tr style=\"text-align: right;\">\n",
       "      <th></th>\n",
       "      <th>review</th>\n",
       "      <th>sentiment</th>\n",
       "      <th>predicted_sentiment</th>\n",
       "    </tr>\n",
       "  </thead>\n",
       "  <tbody>\n",
       "    <tr>\n",
       "      <th>7213</th>\n",
       "      <td>An hilariously accurate caricature of trying t...</td>\n",
       "      <td>positive</td>\n",
       "      <td>positive</td>\n",
       "    </tr>\n",
       "    <tr>\n",
       "      <th>8395</th>\n",
       "      <td>This movie is just great. It's entertaining fr...</td>\n",
       "      <td>positive</td>\n",
       "      <td>positive</td>\n",
       "    </tr>\n",
       "    <tr>\n",
       "      <th>7325</th>\n",
       "      <td>I did not read anything about the film before ...</td>\n",
       "      <td>positive</td>\n",
       "      <td>positive</td>\n",
       "    </tr>\n",
       "    <tr>\n",
       "      <th>6053</th>\n",
       "      <td>A comedy of epically funny proportions from th...</td>\n",
       "      <td>positive</td>\n",
       "      <td>positive</td>\n",
       "    </tr>\n",
       "    <tr>\n",
       "      <th>6377</th>\n",
       "      <td>I am going to go out on a limb, and actually d...</td>\n",
       "      <td>positive</td>\n",
       "      <td>positive</td>\n",
       "    </tr>\n",
       "  </tbody>\n",
       "</table>\n",
       "</div>"
      ],
      "text/plain": [
       "                                                 review sentiment  \\\n",
       "7213  An hilariously accurate caricature of trying t...  positive   \n",
       "8395  This movie is just great. It's entertaining fr...  positive   \n",
       "7325  I did not read anything about the film before ...  positive   \n",
       "6053  A comedy of epically funny proportions from th...  positive   \n",
       "6377  I am going to go out on a limb, and actually d...  positive   \n",
       "\n",
       "     predicted_sentiment  \n",
       "7213            positive  \n",
       "8395            positive  \n",
       "7325            positive  \n",
       "6053            positive  \n",
       "6377            positive  "
      ]
     },
     "execution_count": 26,
     "metadata": {},
     "output_type": "execute_result"
    }
   ],
   "source": [
    "# true is positive, predict is positive\n",
    "t_sentiment = \"positive\"\n",
    "p_sentiment = \"positive\"\n",
    "random.seed(2023) # 設定隨機種子，確保每次執行都是一樣的結果\n",
    "temp_df = result_df[(result_df[\"sentiment\"]==t_sentiment) & (result_df[\"predicted_sentiment\"]==p_sentiment)]\n",
    "temp = temp_df.iloc[random.sample([x for x in range(len(temp_df))], k=5),]\n",
    "for i in range(5):\n",
    "    print(temp.iloc[i,0])\n",
    "    print(\"========================\")\n",
    "temp"
   ]
  },
  {
   "cell_type": "code",
   "execution_count": 27,
   "metadata": {},
   "outputs": [
    {
     "name": "stdout",
     "output_type": "stream",
     "text": [
      "I can't believe this movie managed to get such a relatively high rating of 6! It is barely watchable and unbelievably boring, certainly one of the worst films I have seen in a long, long time.<br /><br />In a no-budget way, it reminded me of Star Wars Episodes I and II for the sheer impression that you are watching a total creative train wreck.<br /><br />This film should be avoided at all costs. It's one of those \"festival films\" that only please the pseudo-intellectuals because they are so badly made those people think it makes it \"different\", therefore good.<br /><br />Bad film-making is not \"different\", it's just bad film-making.\n",
      "========================\n",
      "SPOILERS<br /><br />I love movies. I've seen a lot of movies. I didn't think I'd ever see a film that I actually hated. Son of the Mask ruined it. Son of the Mask is so bad I'm not even going to do a detailed comment like I usually do. In fact, I'm not even going to write a lot. I think all of you should know that this movie is horribly awful. And poor Jamie Kennedy. He was awesome in Scream, but now this film! Also, this film takes a SMO-CAN film and turns it into this goofy kids film that not even kids will like. This film also consists of very rude humor. Like the nose woman. She has a nose for a head and when she sneezes white stuff spews out of her nose. There is also an Exorcist parody. Yes, a kid film has an adult parody. Maybe they thought the adults would like it. Quite frankly, it made the film even more cheesier and crude.<br /><br />Here's the basic, stupid plot. Tim Avery's dog gets the amazing Loki mask and turns into a cartoon dog thing. When Tim is paying more attention to the baby with special powers, cartoon dog becomes a Wiley Coyote ripoff. Then Loki takes the baby with amazing powers and Tim and Loki have a really cheesy animated fight. Tim's wearing the mask. It all ends happy. Too bad this movie is horrible. <br /><br />Overall, the original the Mask was a fantastic Jim Carrey movie. This, basically is not. Please, please, don't rent, buy, or download this movie. I made a terrible mistake renting this. I don't want you guys to make that same exact mistake. I feel horrible that I couldn't write a detailed comment, but really, what's there to comment on?<br /><br />2/10 I'd give it a one, but come on, it's basically a kid film.<br /><br />Recommended Films: The Mask.\n",
      "========================\n",
      "If pulp fiction and Get shorty didn't exist this might be an OK film.When i say this i mean that nothing from this film is it's own unless it's another bit of terrible dialogue or a cliché full scene.All the lines like 'i won't say more than i have to if that' from Get shorty seem to appear in this rubbish sequel, all the cameos like Steven Tyler's are acted terribly and are not needed and as for Christina Milian, man, don't get me started.Sadly some of the coolest actors and actresses like John Travolta and Uma Thurman seem like they are trying to be down with the kids and hip and have nearly ruined there reputation because of this film and frankly i think the best acting is from The rock who plays alongside one of my least favourite actors, Vince Vaughn.The man tries to be funny throughout with him taking the mickey of how apparently rappers talk.Cedric the entertainer and Andre 3000 play another terrible double act {i personally think the background actors were better than Cedric and Andre} and the only funny part of the acting of Cedric,Andre and the rest of there gang do is the way there trousers are down to there knees so you can clearly see there boxers and the only reason i find this funny is because lots of people actually do that.So in conclusion this film tries to be funny and fails miserably, it doesn't have any new material, comedy or coolness throughout as it copies every other film and finally the only reason you should see it is if you want to compare how bad it is to it's brilliant predecessor Get shorty.Oh yes i forgot to mention there is a BIG cliché at the end.\n",
      "========================\n",
      "\"The Secret Life\" starts with the worst possible narrative intro: \"The crimes committed by Jeffrey Dahmer are too horrible to make a film about...\". Okay, so what are you suggesting? That we shouldn't bother to continue watching as the film won't be accurate or bloody, anyway? And they were right, too! The film isn't the least bit shocking and contains almost no blood or gore at all. Although I think that's mainly due to the low budget production values and not because of Dahmer's crimes being too horrific. Basically, \"The Secret Life: Jeffrey Dahmer\" is just one sequence repeated over and over again. Young, pitiful and mentally confused Jeffrey picks up victims (always males, as he was a homosexual), kills them and then talks about how it wasn't his intention to hurt them and about how lonely he is. This gets boring really quick and even the admirable performance by unknown actor Carl Crew can't save this movie from being a total dud. Still, this version is much better than the pretentious and hopelessly muddled \"Dahmer\" that got released in 2002.\n",
      "========================\n",
      "This is one of the most hilariously bad movies I have ever had the privilege to see.<br /><br />I watched this on DVD with a bunch of friends one Friday night and we just couldn't stop laughing from start to finish.<br /><br />The story is simple enough: terrorists hijack a convoy they think is carrying weapons grade uranium, but it's actually carrying a bunch of man-eating dinosaurs. Easy mistake to make. Cue a startlingly incompetent team of Army Special Forces to tackle the prehistoric beasts. They are led by Colonel Rance, played by Scott Valentine; a man who seems to have perfected 'Smell the fart' acting, as advocated by Joey in Friends.<br /><br />There's plenty of gore and an awful lot of shooting, but unfortunately Rance's team seem to have a problem aiming their weapons in the general direction of a horde of giant, lumbering monsters. Also, the lights always seem to flicker and go out whenever a Velociraptor attacks (preumably so we can't see how bad the creature effects are).<br /><br />Having said all that, we all had a great deal of fun betting on who was going to get their head bitten off next.<br /><br />As a Jusassic Park / Aliens style action adventure this movie stinks worse than a dinosaur's crotch, but as ludicrous, tongue-in-cheek entertainment it's a roaring success.\n",
      "========================\n"
     ]
    },
    {
     "data": {
      "text/html": [
       "<div>\n",
       "<style scoped>\n",
       "    .dataframe tbody tr th:only-of-type {\n",
       "        vertical-align: middle;\n",
       "    }\n",
       "\n",
       "    .dataframe tbody tr th {\n",
       "        vertical-align: top;\n",
       "    }\n",
       "\n",
       "    .dataframe thead th {\n",
       "        text-align: right;\n",
       "    }\n",
       "</style>\n",
       "<table border=\"1\" class=\"dataframe\">\n",
       "  <thead>\n",
       "    <tr style=\"text-align: right;\">\n",
       "      <th></th>\n",
       "      <th>review</th>\n",
       "      <th>sentiment</th>\n",
       "      <th>predicted_sentiment</th>\n",
       "    </tr>\n",
       "  </thead>\n",
       "  <tbody>\n",
       "    <tr>\n",
       "      <th>6795</th>\n",
       "      <td>I can't believe this movie managed to get such...</td>\n",
       "      <td>negative</td>\n",
       "      <td>negative</td>\n",
       "    </tr>\n",
       "    <tr>\n",
       "      <th>7999</th>\n",
       "      <td>SPOILERS&lt;br /&gt;&lt;br /&gt;I love movies. I've seen a...</td>\n",
       "      <td>negative</td>\n",
       "      <td>negative</td>\n",
       "    </tr>\n",
       "    <tr>\n",
       "      <th>6927</th>\n",
       "      <td>If pulp fiction and Get shorty didn't exist th...</td>\n",
       "      <td>negative</td>\n",
       "      <td>negative</td>\n",
       "    </tr>\n",
       "    <tr>\n",
       "      <th>5683</th>\n",
       "      <td>\"The Secret Life\" starts with the worst possib...</td>\n",
       "      <td>negative</td>\n",
       "      <td>negative</td>\n",
       "    </tr>\n",
       "    <tr>\n",
       "      <th>5983</th>\n",
       "      <td>This is one of the most hilariously bad movies...</td>\n",
       "      <td>negative</td>\n",
       "      <td>negative</td>\n",
       "    </tr>\n",
       "  </tbody>\n",
       "</table>\n",
       "</div>"
      ],
      "text/plain": [
       "                                                 review sentiment  \\\n",
       "6795  I can't believe this movie managed to get such...  negative   \n",
       "7999  SPOILERS<br /><br />I love movies. I've seen a...  negative   \n",
       "6927  If pulp fiction and Get shorty didn't exist th...  negative   \n",
       "5683  \"The Secret Life\" starts with the worst possib...  negative   \n",
       "5983  This is one of the most hilariously bad movies...  negative   \n",
       "\n",
       "     predicted_sentiment  \n",
       "6795            negative  \n",
       "7999            negative  \n",
       "6927            negative  \n",
       "5683            negative  \n",
       "5983            negative  "
      ]
     },
     "execution_count": 27,
     "metadata": {},
     "output_type": "execute_result"
    }
   ],
   "source": [
    "# true is negative, predict is negative\n",
    "t_sentiment = \"negative\"\n",
    "p_sentiment = \"negative\"\n",
    "random.seed(2023) # 設定隨機種子，確保每次執行都是一樣的結果\n",
    "temp_df = result_df[(result_df[\"sentiment\"]==t_sentiment) & (result_df[\"predicted_sentiment\"]==p_sentiment)]\n",
    "temp = temp_df.iloc[random.sample([x for x in range(len(temp_df))], k=5),]\n",
    "for i in range(5):\n",
    "    print(temp.iloc[i,0])\n",
    "    print(\"========================\")\n",
    "temp"
   ]
  },
  {
   "cell_type": "code",
   "execution_count": 28,
   "metadata": {},
   "outputs": [
    {
     "name": "stdout",
     "output_type": "stream",
     "text": [
      "I had never read much about (or even seen stills of) the six-man British comedy group The Crazy Gang, but my positive experiences with their contemporaries Will Hay and Arthur Askey – and especially Graham Greene’s high praise of THE FROZEN LIMITS itself (“The funniest English picture yet produced…it can bear comparison with SAFETY LAST and THE GENERAL”) – made me take the plunge with the bare-bones R2 DVDs from Network of this and their subsequent film GASBAGS (1941; see below), both of which were released earlier this year with virtually no fanfare.<br /><br />A British-made Western is a rarity, but a British Western spoof is rarer still (CARRY ON COWBOY [1965] was still some 25 years away). Incidentally, going back to the Silent classics mentioned by Greene, the film seems to me to be more obviously indebted to THE GOLD RUSH (1925) and WAY OUT WEST (1937). Besides, it also plays like a variation on the “Snow White And The Seven Dwarfs” fairy-tale (which had just been immortalized on the screen via Walt Disney’s animated masterwork) and where the seventh member is played by ancient comic and frequent Will Hay foil Moore Marriott; the Gang actually call pretty heroine Eileen Bell by that name throughout, and there’s even an amusing sequence with the six of them preparing to go to bed and whistling the dwarfs’ song from the Disney film! <br /><br />Six comedians (three sets of comedy duos: Flanagan & Allen, Nervo & Knox and Naughton & Gold) may be the largest such grouping on film – though not all of their personalities emerge here: my favorites were big Bud Flanagan (looking a bit like Jim Backus), straight man Chesney Allen and moustached, squeaky-voiced Teddy Knox; however, bald Charlie Naughton often took the limelight – since he’s the one on which the others always seemed to pick on. Still, it’s Marriott who steals the film from his very first scene – where he contrives to impersonate every official in the dilapidated theater of a ghost town!; a very young Bernard Lee is also notable as the villain of the piece.<br /><br />The Ore routine between Flanagan and Allen actually anticipates Abbott and Costello’s famous “Who’s On First?” (the film, in fact, hinges on a lot of wordplay for its humor – which doesn’t necessarily travel, especially at this juncture). Nevertheless, there are several hilarious sequences throughout – a few of which even brought tears to my eyes: the opening scene where the Gang are defrocked by a band of angry creditors; their dressing up as Indians once they hit the Yukon; the Gang’s ruse to make everybody rich with the same piece of gold; they all impersonate the sleepwalking Marriott to confuse the villains (a gag which may owe its origin to the Marx Bros.’ hilarious mirror sequence in DUCK SOUP [1933]); the spot-on theater sketch which pokes fun at hoary melodramas; the surreal moment when, pursued by the villains, one of the Gang climbs a staircase that is part of the painted scenery in the theater; and especially towards the end, when a group of singing Mounted Police gallop ever so slowly to the Gang’s rescue (despite being egged on by the increasingly impatient Ranger hero).<br /><br />The thinny soundtrack and the frantic nature of the gags themselves made it hard for me to get all the jokes sometimes – subtitles would certainly have been welcome in this case. The Crazy Gang only made five films – with the first two also being well-regarded, OKAY FOR SOUND (1937) and ALF’S BUTTON AFLOAT (1938), and a much later reunion (though Allen had, by this time, bowed out due to ill-health and been replaced by Eddie Gray) called LIFE IS A CIRCUS (1960; directed by Val Guest who, incidentally, co-wrote both Gang films I purchased as well as some of the afore-mentioned Hay and Askey vehicles!).\n",
      "========================\n",
      "Ahhhh, 1984.... I was young and stupid, and just developing a taste for those exotic cigarettes, whilst living in a squat in Manchester's Moss Side, with the most unbelievable case of cockroach infestation.<br /><br />After a few of those doobies, this show was ROTFLMAO material - I was an avid fan. Then I'd look down at the floor (or up at the walls, or just about anywhere) and see my very own collection of \"little armadillos\" scuttling about.<br /><br />Not sure if it was the chemical enhancement, but I remember thinking at the time that the overt surrealism of the show was fantastic - it was my second favourite thing on TV at the time (#1 was the season of Luis Bunuel movies being shown by Channel 4). Radical art lives on! <br /><br />Also you gotta that theme tune! ....I swear, I'll never drink no more....\n",
      "========================\n",
      "This movie is pretty cheesy, but I do give it credit for at least trying to provide some characterization for it's principles. There are some great moments in the film and the dialogue has some great moments as well.<br /><br />The aerial assault sequence is perhaps the best part of the movie.<br /><br />I guess I really like the idea of what lengths a veteran will go for a fellow veteran. Sure it's not all that well done, but the premise is not at all bad.<br /><br />Tom\n",
      "========================\n",
      "Toy Soldiers is an okay action movie but what really stands out is the amount of effort that the scriptwriters and director put into portraying American counter-terrorist forces accurately. Just check out the end credits--there are more than a dozen US military officers and officials listed. The movie accurately portrays the FBI as having control of the hostage situation but turning it over the US Army's Delta Force (who are unnamed in the movie as the Pentagon was still denying their existence at this time) once the President waived the Posse Commitatus Act of US Code. The US Army forces at the end are accurately dressed and armed for the time. And even the use of an AH-64 Apache for air support--which might seem a bit over the top, is not terribly unrealistic. Far more expensive and frankly better movies have portrayed American counter-terrorist forces with far less accuracy.\n",
      "========================\n",
      "When two writers make a screenplay of a horror version of Breakfast At Tiffany's, you know something is going to go right. Drew Barrymore, Patrick Highsmith, Leslie Hope, and Sally Kellerman are excellent actors. The FBI agent was a terrible actor. The scenes where Patrick looked Holly up and down like some sort of objectifier, those was just weird. Drew Barrymore is very hot. Intimate Strangers, where Sally Kellerman worked, was a great part. The weird gummy worm was just weird. Nathan was a very handsome cat. But what was that scene where Patrick followed Holly into a cesspool and Mr. Gooding attacked him? And the scene with Dr. Wallace? What was he doing fumbling around in there? And not every male has a female, as Sally Kellerman stated. And when Patrick and Elizabeth saw Drew outside of Victor's, that was weird.\n",
      "========================\n"
     ]
    },
    {
     "data": {
      "text/html": [
       "<div>\n",
       "<style scoped>\n",
       "    .dataframe tbody tr th:only-of-type {\n",
       "        vertical-align: middle;\n",
       "    }\n",
       "\n",
       "    .dataframe tbody tr th {\n",
       "        vertical-align: top;\n",
       "    }\n",
       "\n",
       "    .dataframe thead th {\n",
       "        text-align: right;\n",
       "    }\n",
       "</style>\n",
       "<table border=\"1\" class=\"dataframe\">\n",
       "  <thead>\n",
       "    <tr style=\"text-align: right;\">\n",
       "      <th></th>\n",
       "      <th>review</th>\n",
       "      <th>sentiment</th>\n",
       "      <th>predicted_sentiment</th>\n",
       "    </tr>\n",
       "  </thead>\n",
       "  <tbody>\n",
       "    <tr>\n",
       "      <th>5621</th>\n",
       "      <td>I had never read much about (or even seen stil...</td>\n",
       "      <td>positive</td>\n",
       "      <td>negative</td>\n",
       "    </tr>\n",
       "    <tr>\n",
       "      <th>6413</th>\n",
       "      <td>Ahhhh, 1984.... I was young and stupid, and ju...</td>\n",
       "      <td>positive</td>\n",
       "      <td>negative</td>\n",
       "    </tr>\n",
       "    <tr>\n",
       "      <th>5681</th>\n",
       "      <td>This movie is pretty cheesy, but I do give it ...</td>\n",
       "      <td>positive</td>\n",
       "      <td>negative</td>\n",
       "    </tr>\n",
       "    <tr>\n",
       "      <th>4888</th>\n",
       "      <td>Toy Soldiers is an okay action movie but what ...</td>\n",
       "      <td>positive</td>\n",
       "      <td>negative</td>\n",
       "    </tr>\n",
       "    <tr>\n",
       "      <th>8796</th>\n",
       "      <td>When two writers make a screenplay of a horror...</td>\n",
       "      <td>positive</td>\n",
       "      <td>negative</td>\n",
       "    </tr>\n",
       "  </tbody>\n",
       "</table>\n",
       "</div>"
      ],
      "text/plain": [
       "                                                 review sentiment  \\\n",
       "5621  I had never read much about (or even seen stil...  positive   \n",
       "6413  Ahhhh, 1984.... I was young and stupid, and ju...  positive   \n",
       "5681  This movie is pretty cheesy, but I do give it ...  positive   \n",
       "4888  Toy Soldiers is an okay action movie but what ...  positive   \n",
       "8796  When two writers make a screenplay of a horror...  positive   \n",
       "\n",
       "     predicted_sentiment  \n",
       "5621            negative  \n",
       "6413            negative  \n",
       "5681            negative  \n",
       "4888            negative  \n",
       "8796            negative  "
      ]
     },
     "execution_count": 28,
     "metadata": {},
     "output_type": "execute_result"
    }
   ],
   "source": [
    "# true is positive, predict is negative\n",
    "t_sentiment = \"positive\"\n",
    "p_sentiment = \"negative\"\n",
    "random.seed(2023) # 設定隨機種子，確保每次執行都是一樣的結果\n",
    "temp_df = result_df[(result_df[\"sentiment\"]==t_sentiment) & (result_df[\"predicted_sentiment\"]==p_sentiment)]\n",
    "temp = temp_df.iloc[random.sample([x for x in range(len(temp_df))], k=5),]\n",
    "for i in range(5):\n",
    "    print(temp.iloc[i,0])\n",
    "    print(\"========================\")\n",
    "temp"
   ]
  },
  {
   "cell_type": "code",
   "execution_count": 29,
   "metadata": {},
   "outputs": [
    {
     "name": "stdout",
     "output_type": "stream",
     "text": [
      "I debated quite a bit over what rating to give this one because it's my least favorite Herschell Gordon Lewis film so far other than The Gruesome Twosome, but it has the best acting I've seen in a Lewis film. However, we all know that's not saying much. Once the movie was done, I was happy because it felt like I had been sitting through a 4 hour movie, though it was only 82 minutes long. I'm trying to see all of HGL's films and that's probably the only reason to see this one.<br /><br />The gore is good as usual, the one thing that Herschell seemed to get right. The acting is just as bad as usual with one exception. That exception is Frank Kress. Now, would I say that he's a good actor? No way, but he's good compared to everyone else. The story is boring and flat and goes no where and by the end, I didn't care what happened just so long as it ended. I know this is a cult classic but I didn't enjoy it very much at all. I hope you will.\n",
      "========================\n",
      "The trouble with the book, \"Memoirs of a Geisha\" is that it had Japanese surfaces but underneath the surfaces it was all an American man's way of thinking. Reading the book is like watching a magnificent ballet with great music, sets, and costumes yet performed by barnyard animals dressed in those costumesso far from Japanese ways of thinking were the characters.<br /><br />The movie isn't about Japan or real geisha. It is a story about a few American men's mistaken ideas about Japan and geisha filtered through their own ignorance and misconceptions. So what is this movie if it isn't about Japan or geisha? Is it pure fantasy as so many people have said? Yes, but then why make it into an American fantasy?<br /><br />There were so many missed opportunities. Imagine a culture where there are no puritanical hang-ups, no connotations of sin about sex. Sex is natural and normal. How is sex handled in this movie? Right. Like it was dirty. The closest thing to a sex scene in the movie has Sayuri wrinkling up her nose and grimacing with distaste for five seconds as if the man trying to mount her had dropped a handful of cockroaches on her crotch. <br /><br />Does anyone actually enjoy sex in this movie? Nope. One character is said to be promiscuous but all we see is her pushing away her lover because it looks like she doesn't want to get caught doing something dirty. Such typical American puritanism has no place in a movie about Japanese geisha.<br /><br />Did Sayuri enjoy her first ravishing by some old codger after her cherry was auctioned off? Nope. She lies there like a cold slab of meat on a chopping block. Of course she isn't supposed to enjoy it. And that is what I mean about this movie. Why couldn't they have given her something to enjoy? Why does all the sex have to be sinful and wrong?<br /><br />Behind Mameha the Chairman was Sayuri's secret patron, and as such he was behind the auction of her virginity. He could have rigged the auction and won her himself. Nobu didn't even bid. So why did the Chairman let that old codger win her and, reeking of old-man stink, get his fingers all over her naked body? Would any woman ever really forgive a man for that?<br /><br />Let's try to make sense of this. By being behind Mameha the Chairman incurred debts for Sayuri's geisha training. In order to recoup his debts the Chairman had Sayuri sold to Dr. Crab. Through Mameha the Chairman sold Sayuri's sexual favors to that old geezer so that the Chairman could make some money out of her. The Chairman wasn't her patron. He was her pimp! Some romantic love story.<br /><br />Yes, the film is gorgeous but it is like the beauty of a very attractive, alluring transvestite whose voice, appearance and every touch are thrilling. But under that very feminine surface lies an ominous secret. Under the incorrectly appearing Japanese surface of the film lurks the ominous secret that the heart, soul, spirit and core of this film is entirely American and male. Not the best thing to be if it is trying to be other than a lie, distortion, and terribly wrong.<br /><br />Some contrasts between Japan and MOAG:<br /><br />Japanese style  Refined, elegant simplicity. MOAG style  Peking Opera.<br /><br />Japanese geisha  Hair swept up. MOAG geisha  Loose hair which surely must have gotten all gunked up in the thick paste of white makeup.<br /><br />Japanese shaved ice - Japanese are rather strict about seasonal observances. Shaved ice is strictly a summer treat. MOAG shaved ice - The Chairman buys Chiyo, the young Sayuri played by the marvelous Suzuka Ohgo, this treat during cherry-blossom-viewing season. The thought made my entire body shiver with cold.<br /><br />Japanese geisha  Trained and skilled entertainers. MOAG geisha - sluts.<br /><br />Japanese wind chime - Used in the summer because hearing the sound it makes, thanks to the breeze, Japanese people feel somehow cooler. MOAG wind chime - a door bell! If a person stood in front of another's house and made noises with a wind chime they would be considered a lunatic, not gain entrance.<br /><br />Japan  Emphasis on human relationships, group oriented. MOAG  \"I want a life that's mine\" American individualism.<br /><br />Japanese traditional dance  Refined elegance. An almost geometrical and mechanical precision. MOAG dance  Martha Graham freaking out on LSD while wearing a not-very-auspicious white Japanese funeral shroud. Performed by a geisha down a ramp in a place that looks like a strip club? Ha ha ha! Is a strip club where they did most of their research on geisha?<br /><br />Japan house fire  Setting or even letting a fire break out is worse than murder because it poses such a dire threat to the community. Fires can rip through those wooden villages, towns, and cities destroying hundreds or thousands of homes and killing as many people. MOAG house fire - Great adjunct to a fight scene but there are zero ramifications and because it is no longer needed the out-of-control fire miraculously puts itself out. Technically the movie ended here because at the very least Sayuri would have been ostracized and joined her sister among those never heard from again. Which is where both Arthur Golden and Rob Marshall should be exiled.<br /><br />Enough. The movie stinks.\n",
      "========================\n",
      "The latest Rumor going around is that Vh1 is starting casting calls for I Love New York 3 mid 2008. So does this mean Budah or Tailor made dumped New York or does this mean New York dumped the winner?<br /><br />I know Flavor of Love is coming up to it's 3rd season, so now with a Flavor of Love 3 and a I love New York 3.....will there ever be a true winner???<br /><br />I've also heard a few rumors that Chance WILL be brought back for the 3rd Season of I Love New York!!!! I have also heard rumors that New York will be Specially featured on Flavor of Love 3. <br /><br />Hopefully this was not too much of a spoiler for the ending of I Love New York 2....I'm just stating the latest rumor.\n",
      "========================\n",
      "I first watched Kindred in 1987 along with another movie called devouring waves. I remember back then i hated them both and i have never really bothered to watch them again.<br /><br />However i have recently started a crusade to collect as many 80's horror titles in their original boxed form, That have been deleted for some time. I have got myself quite a proud collection with many more titles on my list!<br /><br />The Kindred although i have not as yet got a copy is high priority as all the old movies i didn't like back then, I now own and have now re-watched and think they are brilliant and the bits i do remember of the Kindred are now driving me to want to get hold of a copy A.S.A.P.<br /><br />Hurray for the 80's and long live horror!\n",
      "========================\n",
      "Kevin Kline and Meg Ryan are among that class of actors which I am always interested in seeing, despite reviews. I have always found Ms. Ryan to be a charming and winsome actress in nearly all her roles, and Kevin Kline is almost always worth watching.<br /><br />I say \"nearly\" and \"almost\" in large part because of this movie.<br /><br />First off, Meg Ryan does not play a likeable character, she plays a weak-willed whiner who begins grating on your nerves shortly after the opening credits and doesn't give up until several days later. That said, Kevin Kline's character is even more annoying and less likeable. So, even if you normally like these two actors, I recommend your give this movie a pass.\n",
      "========================\n"
     ]
    },
    {
     "data": {
      "text/html": [
       "<div>\n",
       "<style scoped>\n",
       "    .dataframe tbody tr th:only-of-type {\n",
       "        vertical-align: middle;\n",
       "    }\n",
       "\n",
       "    .dataframe tbody tr th {\n",
       "        vertical-align: top;\n",
       "    }\n",
       "\n",
       "    .dataframe thead th {\n",
       "        text-align: right;\n",
       "    }\n",
       "</style>\n",
       "<table border=\"1\" class=\"dataframe\">\n",
       "  <thead>\n",
       "    <tr style=\"text-align: right;\">\n",
       "      <th></th>\n",
       "      <th>review</th>\n",
       "      <th>sentiment</th>\n",
       "      <th>predicted_sentiment</th>\n",
       "    </tr>\n",
       "  </thead>\n",
       "  <tbody>\n",
       "    <tr>\n",
       "      <th>5743</th>\n",
       "      <td>I debated quite a bit over what rating to give...</td>\n",
       "      <td>negative</td>\n",
       "      <td>positive</td>\n",
       "    </tr>\n",
       "    <tr>\n",
       "      <th>9708</th>\n",
       "      <td>The trouble with the book, \"Memoirs of a Geish...</td>\n",
       "      <td>negative</td>\n",
       "      <td>positive</td>\n",
       "    </tr>\n",
       "    <tr>\n",
       "      <th>6597</th>\n",
       "      <td>The latest Rumor going around is that Vh1 is s...</td>\n",
       "      <td>negative</td>\n",
       "      <td>positive</td>\n",
       "    </tr>\n",
       "    <tr>\n",
       "      <th>5830</th>\n",
       "      <td>I first watched Kindred in 1987 along with ano...</td>\n",
       "      <td>negative</td>\n",
       "      <td>positive</td>\n",
       "    </tr>\n",
       "    <tr>\n",
       "      <th>4713</th>\n",
       "      <td>Kevin Kline and Meg Ryan are among that class ...</td>\n",
       "      <td>negative</td>\n",
       "      <td>positive</td>\n",
       "    </tr>\n",
       "  </tbody>\n",
       "</table>\n",
       "</div>"
      ],
      "text/plain": [
       "                                                 review sentiment  \\\n",
       "5743  I debated quite a bit over what rating to give...  negative   \n",
       "9708  The trouble with the book, \"Memoirs of a Geish...  negative   \n",
       "6597  The latest Rumor going around is that Vh1 is s...  negative   \n",
       "5830  I first watched Kindred in 1987 along with ano...  negative   \n",
       "4713  Kevin Kline and Meg Ryan are among that class ...  negative   \n",
       "\n",
       "     predicted_sentiment  \n",
       "5743            positive  \n",
       "9708            positive  \n",
       "6597            positive  \n",
       "5830            positive  \n",
       "4713            positive  "
      ]
     },
     "execution_count": 29,
     "metadata": {},
     "output_type": "execute_result"
    }
   ],
   "source": [
    "# true is negative, predict is positive\n",
    "t_sentiment = \"negative\"\n",
    "p_sentiment = \"positive\"\n",
    "random.seed(2023) # 設定隨機種子，確保每次執行都是一樣的結果\n",
    "temp_df = result_df[(result_df[\"sentiment\"]==t_sentiment) & (result_df[\"predicted_sentiment\"]==p_sentiment)]\n",
    "temp = temp_df.iloc[random.sample([x for x in range(len(temp_df))], k=5),]\n",
    "for i in range(5):\n",
    "    print(temp.iloc[i,0])\n",
    "    print(\"========================\")\n",
    "temp"
   ]
  }
 ],
 "metadata": {
  "kernelspec": {
   "display_name": "base",
   "language": "python",
   "name": "python3"
  },
  "language_info": {
   "codemirror_mode": {
    "name": "ipython",
    "version": 3
   },
   "file_extension": ".py",
   "mimetype": "text/x-python",
   "name": "python",
   "nbconvert_exporter": "python",
   "pygments_lexer": "ipython3",
   "version": "3.11.5"
  }
 },
 "nbformat": 4,
 "nbformat_minor": 2
}
